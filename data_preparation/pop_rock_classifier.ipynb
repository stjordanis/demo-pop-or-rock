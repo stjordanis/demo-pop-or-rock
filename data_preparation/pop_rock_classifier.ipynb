{
 "cells": [
  {
   "cell_type": "markdown",
   "metadata": {
    "ein.tags": "worksheet-0",
    "slideshow": {
     "slide_type": "-"
    }
   },
   "source": [
    "# Pop or rock classifier notebook\n",
    "This notebook will help you preprocess a dataset to work on the Peltarion Platform. Both to make sure it is well balanced and that it only includes the info you need (in this case pop & rock lyrics).\n",
    "One more thing, you should read our [requirements](https://peltarion.com/knowledge-center/documentation/datasets-view/import-files-and-data-sources-to-the-platform) on input datasets.\n"
   ]
  },
  {
   "cell_type": "markdown",
   "metadata": {
    "ein.tags": "worksheet-0",
    "slideshow": {
     "slide_type": "-"
    }
   },
   "source": [
    "## Download the dataset\n",
    "\n",
    "First things first, you need to download the dataset [Kaggle](https://www.kaggle.com/gyani95/380000-lyrics-from-metrolyrics) you are going to use. In this dataset, there are around 380,000+ lyrics from a lot of different artists and genres, all arranged by year. \n",
    "\n",
    "When the download is done, extract the dataset into the same directory as this notebook."
   ]
  },
  {
   "cell_type": "markdown",
   "metadata": {
    "ein.tags": "worksheet-0",
    "slideshow": {
     "slide_type": "-"
    }
   },
   "source": [
    "## Setup environment\n",
    "To prepare the data, you need to import some Python packages. \n",
    "\n",
    "* `pandas` lets us work with the data in an easy way \n",
    "* `matplotlib` is used to create pretty plots."
   ]
  },
  {
   "cell_type": "code",
   "execution_count": 1,
   "metadata": {},
   "outputs": [
    {
     "name": "stdout",
     "output_type": "stream",
     "text": [
      "Looking in indexes: https://nexus.bahnhof.plattan.fi/repository/pypi/simple, https://pypi.org/simple\n",
      "Requirement already satisfied: matplotlib in /Users/carlcarlheim-gyllenskold/.pyenv/versions/3.6.5/lib/python3.6/site-packages (3.1.1)\n",
      "Requirement already satisfied: pandas in /Users/carlcarlheim-gyllenskold/.pyenv/versions/3.6.5/lib/python3.6/site-packages (0.24.1)\n",
      "Requirement already satisfied: cycler>=0.10 in /Users/carlcarlheim-gyllenskold/.pyenv/versions/3.6.5/lib/python3.6/site-packages (from matplotlib) (0.10.0)\n",
      "Requirement already satisfied: numpy>=1.11 in /Users/carlcarlheim-gyllenskold/.pyenv/versions/3.6.5/lib/python3.6/site-packages (from matplotlib) (1.16.1)\n",
      "Requirement already satisfied: pyparsing!=2.0.4,!=2.1.2,!=2.1.6,>=2.0.1 in /Users/carlcarlheim-gyllenskold/.pyenv/versions/3.6.5/lib/python3.6/site-packages (from matplotlib) (2.3.0)\n",
      "Requirement already satisfied: python-dateutil>=2.1 in /Users/carlcarlheim-gyllenskold/.pyenv/versions/3.6.5/lib/python3.6/site-packages (from matplotlib) (2.7.5)\n",
      "Requirement already satisfied: kiwisolver>=1.0.1 in /Users/carlcarlheim-gyllenskold/.pyenv/versions/3.6.5/lib/python3.6/site-packages (from matplotlib) (1.0.1)\n",
      "Requirement already satisfied: pytz>=2011k in /Users/carlcarlheim-gyllenskold/.pyenv/versions/3.6.5/lib/python3.6/site-packages (from pandas) (2018.9)\n",
      "Requirement already satisfied: six in /Users/carlcarlheim-gyllenskold/.pyenv/versions/3.6.5/lib/python3.6/site-packages (from cycler>=0.10->matplotlib) (1.11.0)\n",
      "Requirement already satisfied: setuptools in /Users/carlcarlheim-gyllenskold/.pyenv/versions/3.6.5/lib/python3.6/site-packages (from kiwisolver>=1.0.1->matplotlib) (39.0.1)\n",
      "\u001b[33mYou are using pip version 19.0.3, however version 19.3.1 is available.\n",
      "You should consider upgrading via the 'pip install --upgrade pip' command.\u001b[0m\n"
     ]
    }
   ],
   "source": [
    "! pip install matplotlib pandas\n",
    "import pandas as pd\n",
    "import matplotlib.pyplot as plt\n",
    "import matplotlib as mpl\n",
    "mpl.style.use('seaborn')"
   ]
  },
  {
   "cell_type": "markdown",
   "metadata": {
    "ein.tags": "worksheet-0",
    "slideshow": {
     "slide_type": "-"
    }
   },
   "source": [
    "## Preprocess the dataset csv to fit the Peltarion Platform\n",
    "The first thing we will do is load the data into a `pandas` dataframe and look at it."
   ]
  },
  {
   "cell_type": "code",
   "execution_count": 2,
   "metadata": {
    "autoscroll": false,
    "ein.hycell": false,
    "ein.tags": "worksheet-0",
    "slideshow": {
     "slide_type": "-"
    }
   },
   "outputs": [
    {
     "data": {
      "text/html": [
       "<div>\n",
       "<style scoped>\n",
       "    .dataframe tbody tr th:only-of-type {\n",
       "        vertical-align: middle;\n",
       "    }\n",
       "\n",
       "    .dataframe tbody tr th {\n",
       "        vertical-align: top;\n",
       "    }\n",
       "\n",
       "    .dataframe thead th {\n",
       "        text-align: right;\n",
       "    }\n",
       "</style>\n",
       "<table border=\"1\" class=\"dataframe\">\n",
       "  <thead>\n",
       "    <tr style=\"text-align: right;\">\n",
       "      <th></th>\n",
       "      <th>index</th>\n",
       "      <th>song</th>\n",
       "      <th>year</th>\n",
       "      <th>artist</th>\n",
       "      <th>genre</th>\n",
       "      <th>lyrics</th>\n",
       "    </tr>\n",
       "  </thead>\n",
       "  <tbody>\n",
       "    <tr>\n",
       "      <th>0</th>\n",
       "      <td>0</td>\n",
       "      <td>ego-remix</td>\n",
       "      <td>2009</td>\n",
       "      <td>beyonce-knowles</td>\n",
       "      <td>Pop</td>\n",
       "      <td>Oh baby, how you doing?\\nYou know I'm gonna cu...</td>\n",
       "    </tr>\n",
       "    <tr>\n",
       "      <th>1</th>\n",
       "      <td>1</td>\n",
       "      <td>then-tell-me</td>\n",
       "      <td>2009</td>\n",
       "      <td>beyonce-knowles</td>\n",
       "      <td>Pop</td>\n",
       "      <td>playin' everything so easy,\\nit's like you see...</td>\n",
       "    </tr>\n",
       "    <tr>\n",
       "      <th>2</th>\n",
       "      <td>2</td>\n",
       "      <td>honesty</td>\n",
       "      <td>2009</td>\n",
       "      <td>beyonce-knowles</td>\n",
       "      <td>Pop</td>\n",
       "      <td>If you search\\nFor tenderness\\nIt isn't hard t...</td>\n",
       "    </tr>\n",
       "    <tr>\n",
       "      <th>3</th>\n",
       "      <td>3</td>\n",
       "      <td>you-are-my-rock</td>\n",
       "      <td>2009</td>\n",
       "      <td>beyonce-knowles</td>\n",
       "      <td>Pop</td>\n",
       "      <td>Oh oh oh I, oh oh oh I\\n[Verse 1:]\\nIf I wrote...</td>\n",
       "    </tr>\n",
       "    <tr>\n",
       "      <th>4</th>\n",
       "      <td>4</td>\n",
       "      <td>black-culture</td>\n",
       "      <td>2009</td>\n",
       "      <td>beyonce-knowles</td>\n",
       "      <td>Pop</td>\n",
       "      <td>Party the people, the people the party it's po...</td>\n",
       "    </tr>\n",
       "  </tbody>\n",
       "</table>\n",
       "</div>"
      ],
      "text/plain": [
       "   index             song  year           artist genre  \\\n",
       "0      0        ego-remix  2009  beyonce-knowles   Pop   \n",
       "1      1     then-tell-me  2009  beyonce-knowles   Pop   \n",
       "2      2          honesty  2009  beyonce-knowles   Pop   \n",
       "3      3  you-are-my-rock  2009  beyonce-knowles   Pop   \n",
       "4      4    black-culture  2009  beyonce-knowles   Pop   \n",
       "\n",
       "                                              lyrics  \n",
       "0  Oh baby, how you doing?\\nYou know I'm gonna cu...  \n",
       "1  playin' everything so easy,\\nit's like you see...  \n",
       "2  If you search\\nFor tenderness\\nIt isn't hard t...  \n",
       "3  Oh oh oh I, oh oh oh I\\n[Verse 1:]\\nIf I wrote...  \n",
       "4  Party the people, the people the party it's po...  "
      ]
     },
     "metadata": {},
     "output_type": "display_data"
    },
    {
     "data": {
      "text/plain": [
       "index     False\n",
       "song       True\n",
       "year      False\n",
       "artist    False\n",
       "genre     False\n",
       "lyrics     True\n",
       "dtype: bool"
      ]
     },
     "metadata": {},
     "output_type": "display_data"
    }
   ],
   "source": [
    "plain_df = pd.read_csv('lyrics.csv')\n",
    "\n",
    "#Show the dataset\n",
    "display(plain_df.head())\n",
    "\n",
    "#Check if anything is missing\n",
    "display(plain_df.isnull().any())"
   ]
  },
  {
   "cell_type": "markdown",
   "metadata": {},
   "source": [
    "### Remove all rows with missing values\n",
    "You can see that the `song` and `lyrics` fields are missing for some rows. Training a model requires all fields to be populated, and so we simply remove all rows with missing entries. \n",
    "\n",
    "Removing rows works well with this large dataset, but for smaller datasets where you don't want to remove data, you could instead replace the missing values, e.g., with average value or the most frequent value. It all depends on your dataset."
   ]
  },
  {
   "cell_type": "code",
   "execution_count": 3,
   "metadata": {
    "autoscroll": false,
    "ein.hycell": false,
    "ein.tags": "worksheet-0",
    "slideshow": {
     "slide_type": "-"
    }
   },
   "outputs": [
    {
     "data": {
      "text/plain": [
       "index     False\n",
       "song      False\n",
       "year      False\n",
       "artist    False\n",
       "genre     False\n",
       "lyrics    False\n",
       "dtype: bool"
      ]
     },
     "execution_count": 3,
     "metadata": {},
     "output_type": "execute_result"
    }
   ],
   "source": [
    "# remove all rows that are not fully populated\n",
    "removed_na_df = plain_df.dropna()\n",
    "removed_na_df.isnull().any()"
   ]
  },
  {
   "cell_type": "markdown",
   "metadata": {
    "ein.tags": "worksheet-0",
    "slideshow": {
     "slide_type": "-"
    }
   },
   "source": [
    "### Keep only pop and rock genres\n",
    "Having cleaned the data, we can now focus on the task at hand: classifying between pop or rock. \n",
    "To train a classifier for this, we do not need lyrics from any other genre and can remove all other lyric genres.\n",
    "\n",
    "#### Shuffle data\n",
    "In addition, we will shuffle the data around to make sure that lyrics from both the pop and the rock genre are mixed together. This is important when training a model."
   ]
  },
  {
   "cell_type": "code",
   "execution_count": 4,
   "metadata": {
    "autoscroll": false,
    "ein.hycell": false,
    "ein.tags": "worksheet-0",
    "slideshow": {
     "slide_type": "-"
    }
   },
   "outputs": [
    {
     "data": {
      "text/html": [
       "<div>\n",
       "<style scoped>\n",
       "    .dataframe tbody tr th:only-of-type {\n",
       "        vertical-align: middle;\n",
       "    }\n",
       "\n",
       "    .dataframe tbody tr th {\n",
       "        vertical-align: top;\n",
       "    }\n",
       "\n",
       "    .dataframe thead th {\n",
       "        text-align: right;\n",
       "    }\n",
       "</style>\n",
       "<table border=\"1\" class=\"dataframe\">\n",
       "  <thead>\n",
       "    <tr style=\"text-align: right;\">\n",
       "      <th></th>\n",
       "      <th>genre</th>\n",
       "      <th>lyrics</th>\n",
       "    </tr>\n",
       "  </thead>\n",
       "  <tbody>\n",
       "    <tr>\n",
       "      <th>233809</th>\n",
       "      <td>Pop</td>\n",
       "      <td>Unstoppable\\nI got the fire in my heart\\nI'm n...</td>\n",
       "    </tr>\n",
       "    <tr>\n",
       "      <th>11684</th>\n",
       "      <td>Rock</td>\n",
       "      <td>I got a friend\\nHe lives down in old Albuquerq...</td>\n",
       "    </tr>\n",
       "    <tr>\n",
       "      <th>295743</th>\n",
       "      <td>Rock</td>\n",
       "      <td>Hello...seems I forgot your name again. Do you...</td>\n",
       "    </tr>\n",
       "    <tr>\n",
       "      <th>307505</th>\n",
       "      <td>Pop</td>\n",
       "      <td>I never thought that\\nYou would be the one to ...</td>\n",
       "    </tr>\n",
       "    <tr>\n",
       "      <th>35323</th>\n",
       "      <td>Rock</td>\n",
       "      <td>Listen when I say, when I say it's real\\nReal ...</td>\n",
       "    </tr>\n",
       "  </tbody>\n",
       "</table>\n",
       "</div>"
      ],
      "text/plain": [
       "       genre                                             lyrics\n",
       "233809   Pop  Unstoppable\\nI got the fire in my heart\\nI'm n...\n",
       "11684   Rock  I got a friend\\nHe lives down in old Albuquerq...\n",
       "295743  Rock  Hello...seems I forgot your name again. Do you...\n",
       "307505   Pop  I never thought that\\nYou would be the one to ...\n",
       "35323   Rock  Listen when I say, when I say it's real\\nReal ..."
      ]
     },
     "metadata": {},
     "output_type": "display_data"
    }
   ],
   "source": [
    "genre_and_lyrics = removed_na_df[['genre', 'lyrics']]\n",
    "groups = genre_and_lyrics.groupby('genre')\n",
    "unshuffled_data = pd.concat((groups.get_group('Pop'), \n",
    "                             groups.get_group('Rock')))\n",
    "data = unshuffled_data.sample(n=len(unshuffled_data))\n",
    "display(data.head())"
   ]
  },
  {
   "cell_type": "markdown",
   "metadata": {
    "ein.tags": "worksheet-0",
    "slideshow": {
     "slide_type": "-"
    }
   },
   "source": [
    "## Sequence length\n",
    "The BERT model requires a pre-defined `sequence length` between **3-512** to work. However, song lyrics can be of any length, so we need to decide what this sequence length should be.\n",
    "\n",
    "A larger `sequence length` lets the model capture more information, typically giving better performance,\n",
    "but it also increases the training time quite a lot. Hence, we want to set a `sequence length` to a value that is large enough to capture most lyrics, but not any larger.\n",
    "\n",
    "Running the script below it, looks like we can compromise and select a `sequence length` of **400** to make training time a bit shorter while only truncating about **3%** of the lyrics.\n",
    "\n",
    "The `sequence length` is entered in the Datasets view in the Peltarion Platform. \n",
    "\n",
    "**Easy experimenting on the platform**\n",
    "\n",
    "Testing different settings is really easy on the platform. You should try to run the same model with different `sequence lengths` to see how much a lower or a higher value impacts on the accuracy and training time."
   ]
  },
  {
   "cell_type": "code",
   "execution_count": 5,
   "metadata": {
    "autoscroll": false,
    "ein.hycell": false,
    "ein.tags": "worksheet-0",
    "slideshow": {
     "slide_type": "-"
    }
   },
   "outputs": [
    {
     "name": "stdout",
     "output_type": "stream",
     "text": [
      "A max length of 400 truncates 0.027 of the lyrics.\n"
     ]
    },
    {
     "name": "stderr",
     "output_type": "stream",
     "text": [
      "Matplotlib is building the font cache using fc-list. This may take a moment.\n"
     ]
    },
    {
     "data": {
      "image/png": "[encoded data removed]",
      "text/plain": [
       "<Figure size 1512x504 with 2 Axes>"
      ]
     },
     "metadata": {
      "needs_background": "light"
     },
     "output_type": "display_data"
    }
   ],
   "source": [
    "lens = data.lyrics.apply(lambda x: len(x.split(' ')))\n",
    "bert_max_len = 512\n",
    "max_len = 400\n",
    "\n",
    "def fraq_trunced(lengths, max_len):\n",
    "    return 1 - len(lengths[lengths < max_len]) / len(lengths)\n",
    "\n",
    "truncs = [fraq_trunced(lens, x) for x in range(1, bert_max_len)]\n",
    "\n",
    "fig, (len_ax, trunc_ax) = plt.subplots(1, 2, figsize=(21, 7))\n",
    "len_ax.hist(lens, bins=80)\n",
    "len_ax.set_xlim((0, 1000))\n",
    "len_ax.set_title('Lyrics lengths', fontsize=16)\n",
    "len_ax.set_xlabel('Lengths', fontsize=14)\n",
    "len_ax.set_ylabel('Count', fontsize=14)\n",
    "\n",
    "trunc_ax.plot(range(len(truncs)), truncs, lw=3)\n",
    "trunc_ax.set_title('Fraction of lyrics truncated', fontsize=16)\n",
    "trunc_ax.set_xlabel('Truncation length', fontsize=14)\n",
    "trunc_ax.set_ylabel('Fraction truncated', fontsize=14)\n",
    "trunc_ax.axvline(max_len, linestyle='--', color='red')\n",
    "print(f'A max length of {max_len} truncates {fraq_trunced(lens, max_len):.3f} of the lyrics.')"
   ]
  },
  {
   "cell_type": "markdown",
   "metadata": {
    "ein.tags": "worksheet-0",
    "slideshow": {
     "slide_type": "-"
    }
   },
   "source": [
    "# Class balance\n",
    "During model training, it is important that the model is presented with examples from all classes. Additionally, if one class if much more common than another, the model will see this class more often and consequently learn to recognize this class much better than the other. This is, of course, a bad thing, so we want to make sure the data is *balanced* between all classes before training on it."
   ]
  },
  {
   "cell_type": "code",
   "execution_count": 6,
   "metadata": {
    "autoscroll": false,
    "ein.hycell": false,
    "ein.tags": "worksheet-0",
    "slideshow": {
     "slide_type": "-"
    }
   },
   "outputs": [
    {
     "data": {
      "text/plain": [
       "<matplotlib.axes._subplots.AxesSubplot at 0x11716e550>"
      ]
     },
     "execution_count": 6,
     "metadata": {},
     "output_type": "execute_result"
    },
    {
     "data": {
      "image/png": "[encoded data removed]",
      "text/plain": [
       "<Figure size 504x504 with 1 Axes>"
      ]
     },
     "metadata": {
      "needs_background": "light"
     },
     "output_type": "display_data"
    }
   ],
   "source": [
    "fig, ax = plt.subplots(figsize=(7, 7))\n",
    "ax.set_title('Balance between rock and pop lyrics', fontsize=16)\n",
    "ax.set_xlabel('Genre', fontsize=14)\n",
    "ax.set_ylabel('Count', fontsize=14)\n",
    "data.genre.value_counts().plot(kind='bar', ax=ax)"
   ]
  },
  {
   "cell_type": "markdown",
   "metadata": {
    "ein.tags": "worksheet-0",
    "slideshow": {
     "slide_type": "-"
    }
   },
   "source": [
    "# Balance classes\n",
    "\n",
    "Looking at the balance between the rock and pop genre shows that there are about three times as many rock lyrics in the dataset. To deal with this, we are going to *downsample* the rock class. That is, we are going to randomly throw away rock lyrics until the two classes are in balance."
   ]
  },
  {
   "cell_type": "code",
   "execution_count": 11,
   "metadata": {
    "autoscroll": false,
    "ein.hycell": false,
    "ein.tags": "worksheet-0",
    "slideshow": {
     "slide_type": "-"
    }
   },
   "outputs": [
    {
     "name": "stdout",
     "output_type": "stream",
     "text": [
      "There are 68769 more rock lyrics than pop lyrics. We will remove these 68769 rock lyrics to make the dataset balanced.\n"
     ]
    },
    {
     "data": {
      "text/plain": [
       "<matplotlib.axes._subplots.AxesSubplot at 0x1156b7b70>"
      ]
     },
     "execution_count": 11,
     "metadata": {},
     "output_type": "execute_result"
    },
    {
     "data": {
      "image/png": "[encoded data removed]",
      "text/plain": [
       "<Figure size 504x504 with 1 Axes>"
      ]
     },
     "metadata": {
      "needs_background": "light"
     },
     "output_type": "display_data"
    }
   ],
   "source": [
    "pop = data[data.genre == 'Pop']\n",
    "rock = data[data.genre == 'Rock']\n",
    "diff = len(rock) - len(pop)\n",
    "print(f'There are {diff} more rock lyrics than pop lyrics. We will remove these {diff} rock lyrics to make the dataset balanced.')\n",
    "\n",
    "downsampled_data = pd.concat((pop, rock.sample(n=len(pop))), ignore_index=True)\n",
    "fig, ax = plt.subplots(figsize=(7, 7))\n",
    "ax.set_title('Balance between rock and pop lyrics', fontsize=16)\n",
    "ax.set_xlabel('Genre', fontsize=14)\n",
    "ax.set_ylabel('Count', fontsize=14)\n",
    "downsampled_data.genre.value_counts().plot(kind='bar', ax=ax)"
   ]
  },
  {
   "cell_type": "markdown",
   "metadata": {
    "ein.tags": "worksheet-0",
    "slideshow": {
     "slide_type": "-"
    }
   },
   "source": [
    "# Create output csv\n",
    "That concludes the data preprocessing. Let's save the dataset, so that it can be imported and used on the Peltarion Platform!"
   ]
  },
  {
   "cell_type": "code",
   "execution_count": 12,
   "metadata": {
    "autoscroll": false,
    "ein.hycell": false,
    "ein.tags": "worksheet-0",
    "slideshow": {
     "slide_type": "-"
    }
   },
   "outputs": [],
   "source": [
    "downsampled_data.to_csv('balanced_downsampled_pop_rock_lyrics.csv')"
   ]
  }
 ],
 "metadata": {
  "kernelspec": {
   "display_name": "Python 3",
   "language": "python",
   "name": "python3"
  },
  "language_info": {
   "codemirror_mode": {
    "name": "ipython",
    "version": 3
   },
   "file_extension": ".py",
   "mimetype": "text/x-python",
   "name": "python",
   "nbconvert_exporter": "python",
   "pygments_lexer": "ipython3",
   "version": "3.6.5"
  },
  "name": "pop_rock_classifier.ipynb"
 },
 "nbformat": 4,
 "nbformat_minor": 4
}
